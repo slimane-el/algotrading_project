{
 "cells": [
  {
   "cell_type": "code",
   "execution_count": 1,
   "metadata": {},
   "outputs": [],
   "source": [
    "from fetching_data import fetch_commodity_data, fetch_multiple_commodities\n",
    "from creating_indicators import enrich_signal"
   ]
  },
  {
   "cell_type": "markdown",
   "metadata": {},
   "source": [
    "### ALgotrading project using commodities : (matières premières) Experimenting"
   ]
  },
  {
   "cell_type": "code",
   "execution_count": null,
   "metadata": {},
   "outputs": [],
   "source": [
    "## Fetching data using yfinance\n",
    "\n",
    "commodities = {\n",
    "    'Or': 'GC=F',\n",
    "    'Pétrole Brut': 'CL=F', \n",
    "    'Blé': 'ZW=F',\n",
    "    'Cuivre': 'HG=F',\n",
    "    'Gaz Naturel': 'NG=F'\n",
    "}\n",
    "\n",
    "commos = fetch_multiple_commodities(commodities)\n"
   ]
  },
  {
   "cell_type": "code",
   "execution_count": 4,
   "metadata": {},
   "outputs": [],
   "source": [
    "for key, data in commos.items():\n",
    "    data = enrich_signal(data)"
   ]
  },
  {
   "cell_type": "code",
   "execution_count": null,
   "metadata": {},
   "outputs": [],
   "source": []
  }
 ],
 "metadata": {
  "kernelspec": {
   "display_name": "Python 3",
   "language": "python",
   "name": "python3"
  },
  "language_info": {
   "codemirror_mode": {
    "name": "ipython",
    "version": 3
   },
   "file_extension": ".py",
   "mimetype": "text/x-python",
   "name": "python",
   "nbconvert_exporter": "python",
   "pygments_lexer": "ipython3",
   "version": "3.11.5"
  }
 },
 "nbformat": 4,
 "nbformat_minor": 2
}
